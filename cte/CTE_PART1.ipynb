{
    "metadata": {
        "kernelspec": {
            "name": "SQL",
            "display_name": "SQL",
            "language": "sql"
        },
        "language_info": {
            "name": "sql",
            "version": ""
        }
    },
    "nbformat_minor": 2,
    "nbformat": 4,
    "cells": [
        {
            "cell_type": "markdown",
            "source": [
                "# **CTE**\n",
                "\n",
                "> - **Temp named result set (virtual table) that can be used multipke times within your query to simplify and organize your query**\n",
                "> - **CTES can be reused**\n",
                "> - **Modularity , Readability , Reusablity**\n",
                "> \n",
                "> - **CTE types** \n",
                "> \n",
                ">     - **Recursive**\n",
                ">     - ****Non Recursive****\n",
                ">         - ****Standalone**** \n",
                ">         - ****nested****"
            ],
            "metadata": {
                "azdata_cell_guid": "d58f7e9b-8b3b-4592-bdf9-19d449afe66e",
                "language": ""
            },
            "attachments": {}
        },
        {
            "cell_type": "code",
            "source": [
                "select * from SalesDB.Sales.Orders\r\n",
                ""
            ],
            "metadata": {
                "azdata_cell_guid": "bf29b6f1-0400-4f19-b85c-490844608d79",
                "language": "sql",
                "tags": [
                    "hide_input"
                ]
            },
            "outputs": [
                {
                    "output_type": "display_data",
                    "data": {
                        "text/html": "(10 rows affected)"
                    },
                    "metadata": {}
                },
                {
                    "output_type": "display_data",
                    "data": {
                        "text/html": "Total execution time: 00:00:00.060"
                    },
                    "metadata": {}
                },
                {
                    "output_type": "execute_result",
                    "metadata": {},
                    "execution_count": 1,
                    "data": {
                        "application/vnd.dataresource+json": {
                            "schema": {
                                "fields": [
                                    {
                                        "name": "OrderID"
                                    },
                                    {
                                        "name": "ProductID"
                                    },
                                    {
                                        "name": "CustomerID"
                                    },
                                    {
                                        "name": "SalesPersonID"
                                    },
                                    {
                                        "name": "OrderDate"
                                    },
                                    {
                                        "name": "ShipDate"
                                    },
                                    {
                                        "name": "OrderStatus"
                                    },
                                    {
                                        "name": "ShipAddress"
                                    },
                                    {
                                        "name": "BillAddress"
                                    },
                                    {
                                        "name": "Quantity"
                                    },
                                    {
                                        "name": "Sales"
                                    },
                                    {
                                        "name": "CreationTime"
                                    }
                                ]
                            },
                            "data": [
                                {
                                    "OrderID": "1",
                                    "ProductID": "101",
                                    "CustomerID": "2",
                                    "SalesPersonID": "3",
                                    "OrderDate": "2025-01-01",
                                    "ShipDate": "2025-01-05",
                                    "OrderStatus": "Delivered",
                                    "ShipAddress": "9833 Mt. Dias Blv.",
                                    "BillAddress": "1226 Shoe St.",
                                    "Quantity": "1",
                                    "Sales": "10",
                                    "CreationTime": "2025-01-01 12:34:56.0000000"
                                },
                                {
                                    "OrderID": "2",
                                    "ProductID": "102",
                                    "CustomerID": "3",
                                    "SalesPersonID": "3",
                                    "OrderDate": "2025-01-05",
                                    "ShipDate": "2025-01-10",
                                    "OrderStatus": "Shipped",
                                    "ShipAddress": "250 Race Court",
                                    "BillAddress": "NULL",
                                    "Quantity": "1",
                                    "Sales": "15",
                                    "CreationTime": "2025-01-05 23:22:04.0000000"
                                },
                                {
                                    "OrderID": "3",
                                    "ProductID": "101",
                                    "CustomerID": "1",
                                    "SalesPersonID": "5",
                                    "OrderDate": "2025-01-10",
                                    "ShipDate": "2025-01-25",
                                    "OrderStatus": "Delivered",
                                    "ShipAddress": "8157 W. Book",
                                    "BillAddress": "8157 W. Book",
                                    "Quantity": "2",
                                    "Sales": "20",
                                    "CreationTime": "2025-01-10 18:24:08.0000000"
                                },
                                {
                                    "OrderID": "4",
                                    "ProductID": "105",
                                    "CustomerID": "1",
                                    "SalesPersonID": "3",
                                    "OrderDate": "2025-01-20",
                                    "ShipDate": "2025-01-25",
                                    "OrderStatus": "Shipped",
                                    "ShipAddress": "5724 Victory Lane",
                                    "BillAddress": "",
                                    "Quantity": "2",
                                    "Sales": "60",
                                    "CreationTime": "2025-01-20 05:50:33.0000000"
                                },
                                {
                                    "OrderID": "5",
                                    "ProductID": "104",
                                    "CustomerID": "2",
                                    "SalesPersonID": "5",
                                    "OrderDate": "2025-02-01",
                                    "ShipDate": "2025-02-05",
                                    "OrderStatus": "Delivered",
                                    "ShipAddress": "NULL",
                                    "BillAddress": "NULL",
                                    "Quantity": "1",
                                    "Sales": "25",
                                    "CreationTime": "2025-02-01 14:02:41.0000000"
                                },
                                {
                                    "OrderID": "6",
                                    "ProductID": "104",
                                    "CustomerID": "3",
                                    "SalesPersonID": "5",
                                    "OrderDate": "2025-02-05",
                                    "ShipDate": "2025-02-10",
                                    "OrderStatus": "Delivered",
                                    "ShipAddress": "1792 Belmont Rd.",
                                    "BillAddress": "NULL",
                                    "Quantity": "2",
                                    "Sales": "50",
                                    "CreationTime": "2025-02-06 15:34:57.0000000"
                                },
                                {
                                    "OrderID": "7",
                                    "ProductID": "102",
                                    "CustomerID": "1",
                                    "SalesPersonID": "1",
                                    "OrderDate": "2025-02-15",
                                    "ShipDate": "2025-02-27",
                                    "OrderStatus": "Delivered",
                                    "ShipAddress": "136 Balboa Court",
                                    "BillAddress": "",
                                    "Quantity": "2",
                                    "Sales": "30",
                                    "CreationTime": "2025-02-16 06:22:01.0000000"
                                },
                                {
                                    "OrderID": "8",
                                    "ProductID": "101",
                                    "CustomerID": "4",
                                    "SalesPersonID": "3",
                                    "OrderDate": "2025-02-18",
                                    "ShipDate": "2025-02-27",
                                    "OrderStatus": "Shipped",
                                    "ShipAddress": "2947 Vine Lane",
                                    "BillAddress": "4311 Clay Rd",
                                    "Quantity": "3",
                                    "Sales": "90",
                                    "CreationTime": "2025-02-18 10:45:22.0000000"
                                },
                                {
                                    "OrderID": "9",
                                    "ProductID": "101",
                                    "CustomerID": "2",
                                    "SalesPersonID": "3",
                                    "OrderDate": "2025-03-10",
                                    "ShipDate": "2025-03-15",
                                    "OrderStatus": "Shipped",
                                    "ShipAddress": "3768 Door Way",
                                    "BillAddress": "",
                                    "Quantity": "2",
                                    "Sales": "20",
                                    "CreationTime": "2025-03-10 12:59:04.0000000"
                                },
                                {
                                    "OrderID": "10",
                                    "ProductID": "102",
                                    "CustomerID": "3",
                                    "SalesPersonID": "5",
                                    "OrderDate": "2025-03-15",
                                    "ShipDate": "2025-03-20",
                                    "OrderStatus": "Shipped",
                                    "ShipAddress": "NULL",
                                    "BillAddress": "NULL",
                                    "Quantity": "0",
                                    "Sales": "60",
                                    "CreationTime": "2025-03-16 23:25:15.0000000"
                                }
                            ]
                        },
                        "text/html": [
                            "<table>",
                            "<tr><th>OrderID</th><th>ProductID</th><th>CustomerID</th><th>SalesPersonID</th><th>OrderDate</th><th>ShipDate</th><th>OrderStatus</th><th>ShipAddress</th><th>BillAddress</th><th>Quantity</th><th>Sales</th><th>CreationTime</th></tr>",
                            "<tr><td>1</td><td>101</td><td>2</td><td>3</td><td>2025-01-01</td><td>2025-01-05</td><td>Delivered</td><td>9833 Mt. Dias Blv.</td><td>1226 Shoe St.</td><td>1</td><td>10</td><td>2025-01-01 12:34:56.0000000</td></tr>",
                            "<tr><td>2</td><td>102</td><td>3</td><td>3</td><td>2025-01-05</td><td>2025-01-10</td><td>Shipped</td><td>250 Race Court</td><td>NULL</td><td>1</td><td>15</td><td>2025-01-05 23:22:04.0000000</td></tr>",
                            "<tr><td>3</td><td>101</td><td>1</td><td>5</td><td>2025-01-10</td><td>2025-01-25</td><td>Delivered</td><td>8157 W. Book</td><td>8157 W. Book</td><td>2</td><td>20</td><td>2025-01-10 18:24:08.0000000</td></tr>",
                            "<tr><td>4</td><td>105</td><td>1</td><td>3</td><td>2025-01-20</td><td>2025-01-25</td><td>Shipped</td><td>5724 Victory Lane</td><td></td><td>2</td><td>60</td><td>2025-01-20 05:50:33.0000000</td></tr>",
                            "<tr><td>5</td><td>104</td><td>2</td><td>5</td><td>2025-02-01</td><td>2025-02-05</td><td>Delivered</td><td>NULL</td><td>NULL</td><td>1</td><td>25</td><td>2025-02-01 14:02:41.0000000</td></tr>",
                            "<tr><td>6</td><td>104</td><td>3</td><td>5</td><td>2025-02-05</td><td>2025-02-10</td><td>Delivered</td><td>1792 Belmont Rd.</td><td>NULL</td><td>2</td><td>50</td><td>2025-02-06 15:34:57.0000000</td></tr>",
                            "<tr><td>7</td><td>102</td><td>1</td><td>1</td><td>2025-02-15</td><td>2025-02-27</td><td>Delivered</td><td>136 Balboa Court</td><td></td><td>2</td><td>30</td><td>2025-02-16 06:22:01.0000000</td></tr>",
                            "<tr><td>8</td><td>101</td><td>4</td><td>3</td><td>2025-02-18</td><td>2025-02-27</td><td>Shipped</td><td>2947 Vine Lane</td><td>4311 Clay Rd</td><td>3</td><td>90</td><td>2025-02-18 10:45:22.0000000</td></tr>",
                            "<tr><td>9</td><td>101</td><td>2</td><td>3</td><td>2025-03-10</td><td>2025-03-15</td><td>Shipped</td><td>3768 Door Way</td><td></td><td>2</td><td>20</td><td>2025-03-10 12:59:04.0000000</td></tr>",
                            "<tr><td>10</td><td>102</td><td>3</td><td>5</td><td>2025-03-15</td><td>2025-03-20</td><td>Shipped</td><td>NULL</td><td>NULL</td><td>0</td><td>60</td><td>2025-03-16 23:25:15.0000000</td></tr>",
                            "</table>"
                        ]
                    }
                }
            ],
            "execution_count": 1
        },
        {
            "cell_type": "markdown",
            "source": [
                "# **Standalone CTE**\n",
                "\n",
                "> **independent cte , not dependency with other ctes**\n",
                "> \n",
                "> **Syntax:**\n",
                "> \n",
                "> **with cte\\_name AS(query)**\n",
                "> \n",
                "> **we cannot have order by in CTE's**"
            ],
            "metadata": {
                "language": "sql",
                "azdata_cell_guid": "09bf68d1-787c-4d31-9fc4-25ae0ab0a0d1"
            },
            "attachments": {}
        },
        {
            "cell_type": "code",
            "source": [
                "with cte_total_sales as \r\n",
                "(\r\n",
                "    select \r\n",
                "        CustomerID\r\n",
                "        ,sum(Sales) as TotalSales\r\n",
                "    from SalesDB.Sales.Orders\r\n",
                "    group by CustomerID\r\n",
                "),\r\n",
                "cte_customer_last_orderd_date as\r\n",
                "(\r\n",
                "    select\r\n",
                "        CustomerID,\r\n",
                "        Max(OrderDate) last_order_date\r\n",
                "    from SalesDB.Sales.Orders \r\n",
                "    group by CustomerID\r\n",
                "),\r\n",
                "cte_customer_rank as\r\n",
                "(\r\n",
                "    select \r\n",
                "        *,\r\n",
                "        RANK() OVER(order by TotalSales desc) as customer_rank \r\n",
                "    from cte_total_sales\r\n",
                "),\r\n",
                "cte_customer_segment as\r\n",
                "(\r\n",
                "    select \r\n",
                "        *,\r\n",
                "        case \r\n",
                "            when TotalSales > 100 then 'high'\r\n",
                "            when TotalSales > 50 then 'medium'\r\n",
                "            else 'low'\r\n",
                "        end as segment\r\n",
                "    from cte_total_sales\r\n",
                ")\r\n",
                "select c.* , ts.TotalSales , lo.last_order_date , cr.customer_rank , cs.TotalSales\r\n",
                "from SalesDB.Sales.Customers c\r\n",
                "left join cte_total_sales ts on ts.CustomerID = c.CustomerID\r\n",
                "left join cte_customer_last_orderd_date lo on lo.CustomerID = c.CustomerID\r\n",
                "left join cte_customer_rank cr on cr.CustomerID = c.CustomerID\r\n",
                "left join cte_customer_segment cs on cs.CustomerID = c.CustomerID\r\n",
                "where ts.TotalSales is not NULL\r\n",
                "order by customer_rank;"
            ],
            "metadata": {
                "azdata_cell_guid": "1760c978-67e8-4679-b8fe-353071cf2492",
                "language": "sql",
                "tags": []
            },
            "outputs": [
                {
                    "output_type": "display_data",
                    "data": {
                        "text/html": "(4 rows affected)"
                    },
                    "metadata": {}
                },
                {
                    "output_type": "display_data",
                    "data": {
                        "text/html": "Total execution time: 00:00:00.026"
                    },
                    "metadata": {}
                },
                {
                    "output_type": "execute_result",
                    "metadata": {},
                    "execution_count": 2,
                    "data": {
                        "application/vnd.dataresource+json": {
                            "schema": {
                                "fields": [
                                    {
                                        "name": "CustomerID"
                                    },
                                    {
                                        "name": "FirstName"
                                    },
                                    {
                                        "name": "LastName"
                                    },
                                    {
                                        "name": "Country"
                                    },
                                    {
                                        "name": "Score"
                                    },
                                    {
                                        "name": "TotalSales"
                                    },
                                    {
                                        "name": "last_order_date"
                                    },
                                    {
                                        "name": "customer_rank"
                                    },
                                    {
                                        "name": "TotalSales"
                                    }
                                ]
                            },
                            "data": [
                                {
                                    "CustomerID": "3",
                                    "FirstName": "Mary",
                                    "LastName": "NULL",
                                    "Country": "USA",
                                    "Score": "750",
                                    "TotalSales": "125",
                                    "last_order_date": "2025-03-15",
                                    "customer_rank": "1"
                                },
                                {
                                    "CustomerID": "1",
                                    "FirstName": "Jossef",
                                    "LastName": "Goldberg",
                                    "Country": "Germany",
                                    "Score": "350",
                                    "TotalSales": "110",
                                    "last_order_date": "2025-02-15",
                                    "customer_rank": "2"
                                },
                                {
                                    "CustomerID": "4",
                                    "FirstName": "Mark",
                                    "LastName": "Schwarz",
                                    "Country": "Germany",
                                    "Score": "500",
                                    "TotalSales": "90",
                                    "last_order_date": "2025-02-18",
                                    "customer_rank": "3"
                                },
                                {
                                    "CustomerID": "2",
                                    "FirstName": "Kevin",
                                    "LastName": "Brown",
                                    "Country": "USA",
                                    "Score": "900",
                                    "TotalSales": "55",
                                    "last_order_date": "2025-03-10",
                                    "customer_rank": "4"
                                }
                            ]
                        },
                        "text/html": [
                            "<table>",
                            "<tr><th>CustomerID</th><th>FirstName</th><th>LastName</th><th>Country</th><th>Score</th><th>TotalSales</th><th>last_order_date</th><th>customer_rank</th><th>TotalSales</th></tr>",
                            "<tr><td>3</td><td>Mary</td><td>NULL</td><td>USA</td><td>750</td><td>125</td><td>2025-03-15</td><td>1</td><td>125</td></tr>",
                            "<tr><td>1</td><td>Jossef</td><td>Goldberg</td><td>Germany</td><td>350</td><td>110</td><td>2025-02-15</td><td>2</td><td>110</td></tr>",
                            "<tr><td>4</td><td>Mark</td><td>Schwarz</td><td>Germany</td><td>500</td><td>90</td><td>2025-02-18</td><td>3</td><td>90</td></tr>",
                            "<tr><td>2</td><td>Kevin</td><td>Brown</td><td>USA</td><td>900</td><td>55</td><td>2025-03-10</td><td>4</td><td>55</td></tr>",
                            "</table>"
                        ]
                    }
                }
            ],
            "execution_count": 2
        },
        {
            "cell_type": "markdown",
            "source": [
                "# **Recursive CTE**\n",
                "\n",
                "**it is executed until a condition is met**\n",
                "\n",
                "> **with cte\\_name as** \n",
                "> \n",
                "> **(**\n",
                "> \n",
                "> **(select query) -- anchor query starting point of the tierations**\n",
                "> \n",
                "> **union all**\n",
                "> \n",
                "> **(select** \n",
                "> \n",
                "> **query** **from same\\_cte\\_name** \n",
                "> \n",
                "> **where break condition) -- recursive query executes multiple times**\n",
                "> \n",
                "> **)**"
            ],
            "metadata": {
                "azdata_cell_guid": "07ef7c99-aa18-43f6-aa87-f558761851b9"
            },
            "attachments": {}
        },
        {
            "cell_type": "code",
            "source": [
                "-- sequence number from 1 to 20\r\n",
                "\r\n",
                "with series as(\r\n",
                "   (select 1 as myNumber) -- anchor query \r\n",
                "   \r\n",
                "    union all \r\n",
                "    \r\n",
                "    (select myNumber+1\r\n",
                "    from series \r\n",
                "    where myNumber < 30) -- recursive query -- DEFULT IS 100 SET MAX REQUIRED RECURSION IN (MAXRECURSION LIMIT)\r\n",
                ")\r\n",
                "\r\n",
                "select * from series\r\n",
                "OPTION(MAXRECURSION 100)\r\n",
                ";"
            ],
            "metadata": {
                "azdata_cell_guid": "dfdd0755-7fe2-4972-a0ab-24d7f10ff936",
                "language": "sql"
            },
            "outputs": [
                {
                    "output_type": "display_data",
                    "data": {
                        "text/html": "(30 rows affected)"
                    },
                    "metadata": {}
                },
                {
                    "output_type": "display_data",
                    "data": {
                        "text/html": "Total execution time: 00:00:00.023"
                    },
                    "metadata": {}
                },
                {
                    "output_type": "execute_result",
                    "metadata": {},
                    "execution_count": 10,
                    "data": {
                        "application/vnd.dataresource+json": {
                            "schema": {
                                "fields": [
                                    {
                                        "name": "myNumber"
                                    }
                                ]
                            },
                            "data": [
                                {
                                    "myNumber": "1"
                                },
                                {
                                    "myNumber": "2"
                                },
                                {
                                    "myNumber": "3"
                                },
                                {
                                    "myNumber": "4"
                                },
                                {
                                    "myNumber": "5"
                                },
                                {
                                    "myNumber": "6"
                                },
                                {
                                    "myNumber": "7"
                                },
                                {
                                    "myNumber": "8"
                                },
                                {
                                    "myNumber": "9"
                                },
                                {
                                    "myNumber": "10"
                                },
                                {
                                    "myNumber": "11"
                                },
                                {
                                    "myNumber": "12"
                                },
                                {
                                    "myNumber": "13"
                                },
                                {
                                    "myNumber": "14"
                                },
                                {
                                    "myNumber": "15"
                                },
                                {
                                    "myNumber": "16"
                                },
                                {
                                    "myNumber": "17"
                                },
                                {
                                    "myNumber": "18"
                                },
                                {
                                    "myNumber": "19"
                                },
                                {
                                    "myNumber": "20"
                                },
                                {
                                    "myNumber": "21"
                                },
                                {
                                    "myNumber": "22"
                                },
                                {
                                    "myNumber": "23"
                                },
                                {
                                    "myNumber": "24"
                                },
                                {
                                    "myNumber": "25"
                                },
                                {
                                    "myNumber": "26"
                                },
                                {
                                    "myNumber": "27"
                                },
                                {
                                    "myNumber": "28"
                                },
                                {
                                    "myNumber": "29"
                                },
                                {
                                    "myNumber": "30"
                                }
                            ]
                        },
                        "text/html": [
                            "<table>",
                            "<tr><th>myNumber</th></tr>",
                            "<tr><td>1</td></tr>",
                            "<tr><td>2</td></tr>",
                            "<tr><td>3</td></tr>",
                            "<tr><td>4</td></tr>",
                            "<tr><td>5</td></tr>",
                            "<tr><td>6</td></tr>",
                            "<tr><td>7</td></tr>",
                            "<tr><td>8</td></tr>",
                            "<tr><td>9</td></tr>",
                            "<tr><td>10</td></tr>",
                            "<tr><td>11</td></tr>",
                            "<tr><td>12</td></tr>",
                            "<tr><td>13</td></tr>",
                            "<tr><td>14</td></tr>",
                            "<tr><td>15</td></tr>",
                            "<tr><td>16</td></tr>",
                            "<tr><td>17</td></tr>",
                            "<tr><td>18</td></tr>",
                            "<tr><td>19</td></tr>",
                            "<tr><td>20</td></tr>",
                            "<tr><td>21</td></tr>",
                            "<tr><td>22</td></tr>",
                            "<tr><td>23</td></tr>",
                            "<tr><td>24</td></tr>",
                            "<tr><td>25</td></tr>",
                            "<tr><td>26</td></tr>",
                            "<tr><td>27</td></tr>",
                            "<tr><td>28</td></tr>",
                            "<tr><td>29</td></tr>",
                            "<tr><td>30</td></tr>",
                            "</table>"
                        ]
                    }
                }
            ],
            "execution_count": 10
        },
        {
            "cell_type": "code",
            "source": [
                "with employee_hierarchy as(\r\n",
                "    select \r\n",
                "        EmployeeID\r\n",
                "        , FirstName \r\n",
                "        , ManagerID \r\n",
                "        , 1 as level\r\n",
                "        , FirstName as manager\r\n",
                "    from \r\n",
                "        Sales.Employees\r\n",
                "    where ManagerID is null\r\n",
                "\r\n",
                "    union all \r\n",
                "\r\n",
                "    select \r\n",
                "          e.EmployeeID\r\n",
                "        , e.FirstName \r\n",
                "        , e.ManagerID \r\n",
                "        , level+1 as level\r\n",
                "        , coalesce(ceh.FirstName,'Manager') as manages_name\r\n",
                "    from \r\n",
                "        Sales.Employees as e\r\n",
                "    inner join employee_hierarchy ceh on e.ManagerID = ceh.EmployeeID\r\n",
                ")\r\n",
                "select * from employee_hierarchy\r\n",
                ""
            ],
            "metadata": {
                "azdata_cell_guid": "31c2ad69-626a-4c07-98e9-499f8925049a",
                "language": "sql"
            },
            "outputs": [
                {
                    "output_type": "display_data",
                    "data": {
                        "text/html": "(5 rows affected)"
                    },
                    "metadata": {}
                },
                {
                    "output_type": "display_data",
                    "data": {
                        "text/html": "Total execution time: 00:00:00.019"
                    },
                    "metadata": {}
                },
                {
                    "output_type": "execute_result",
                    "metadata": {},
                    "execution_count": 20,
                    "data": {
                        "application/vnd.dataresource+json": {
                            "schema": {
                                "fields": [
                                    {
                                        "name": "EmployeeID"
                                    },
                                    {
                                        "name": "FirstName"
                                    },
                                    {
                                        "name": "ManagerID"
                                    },
                                    {
                                        "name": "level"
                                    },
                                    {
                                        "name": "manager"
                                    }
                                ]
                            },
                            "data": [
                                {
                                    "EmployeeID": "1",
                                    "FirstName": "Frank",
                                    "ManagerID": "NULL",
                                    "level": "1",
                                    "manager": "Frank"
                                },
                                {
                                    "EmployeeID": "2",
                                    "FirstName": "Kevin",
                                    "ManagerID": "1",
                                    "level": "2",
                                    "manager": "Frank"
                                },
                                {
                                    "EmployeeID": "3",
                                    "FirstName": "Mary",
                                    "ManagerID": "1",
                                    "level": "2",
                                    "manager": "Frank"
                                },
                                {
                                    "EmployeeID": "5",
                                    "FirstName": "Carol",
                                    "ManagerID": "3",
                                    "level": "3",
                                    "manager": "Mary"
                                },
                                {
                                    "EmployeeID": "4",
                                    "FirstName": "Michael",
                                    "ManagerID": "2",
                                    "level": "3",
                                    "manager": "Kevin"
                                }
                            ]
                        },
                        "text/html": [
                            "<table>",
                            "<tr><th>EmployeeID</th><th>FirstName</th><th>ManagerID</th><th>level</th><th>manager</th></tr>",
                            "<tr><td>1</td><td>Frank</td><td>NULL</td><td>1</td><td>Frank</td></tr>",
                            "<tr><td>2</td><td>Kevin</td><td>1</td><td>2</td><td>Frank</td></tr>",
                            "<tr><td>3</td><td>Mary</td><td>1</td><td>2</td><td>Frank</td></tr>",
                            "<tr><td>5</td><td>Carol</td><td>3</td><td>3</td><td>Mary</td></tr>",
                            "<tr><td>4</td><td>Michael</td><td>2</td><td>3</td><td>Kevin</td></tr>",
                            "</table>"
                        ]
                    }
                }
            ],
            "execution_count": 20
        }
    ]
}