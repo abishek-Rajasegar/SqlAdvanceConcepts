{
    "metadata": {
        "kernelspec": {
            "name": "SQL",
            "display_name": "SQL",
            "language": "sql"
        },
        "language_info": {
            "name": "sql",
            "version": ""
        }
    },
    "nbformat_minor": 2,
    "nbformat": 4,
    "cells": [
        {
            "cell_type": "markdown",
            "source": [
                "# **CTE**\n",
                "\n",
                ">  **Temp named result set (virtual table) that can be used multipke times within your query to simplify and organize your query**"
            ],
            "metadata": {
                "azdata_cell_guid": "d58f7e9b-8b3b-4592-bdf9-19d449afe66e",
                "language": ""
            },
            "attachments": {}
        },
        {
            "cell_type": "code",
            "source": [
                ""
            ],
            "metadata": {
                "azdata_cell_guid": "bf29b6f1-0400-4f19-b85c-490844608d79",
                "language": "sql"
            },
            "outputs": [],
            "execution_count": null
        }
    ]
}